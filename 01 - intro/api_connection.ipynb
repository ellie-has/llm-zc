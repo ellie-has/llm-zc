{
 "cells": [
  {
   "cell_type": "code",
   "execution_count": 1,
   "id": "22aa33a0-0bdd-4762-ba6a-635fbdf49116",
   "metadata": {},
   "outputs": [],
   "source": [
    "import openai\n",
    "from openai import OpenAI\n",
    "import os "
   ]
  },
  {
   "cell_type": "code",
   "execution_count": 2,
   "id": "d8069b84-2aaf-49d6-aa6d-207538b920f2",
   "metadata": {},
   "outputs": [],
   "source": [
    "api_key = os.environ[\"OPEN_API_KEY\"]\n",
    "client = OpenAI(api_key=api_key)"
   ]
  },
  {
   "cell_type": "code",
   "execution_count": 10,
   "id": "4ac17948",
   "metadata": {},
   "outputs": [],
   "source": [
    "response = client.chat.completions.create(\n",
    "    model=\"gpt-4o\",\n",
    "    messages=[{\"role\": \"user\", \"content\": \"is it too late to join the course?\"}]\n",
    ")"
   ]
  },
  {
   "cell_type": "code",
   "execution_count": 16,
   "id": "4e3b26b9-d664-46d2-9260-4c1ddc6b3b88",
   "metadata": {},
   "outputs": [
    {
     "data": {
      "text/plain": [
       "\"It depends on the course and its specific deadlines. Here are a few steps you can take to find out if it's too late to join the course:\\n\\n1. **Check the Enrollment Deadline:**\\n   - Look for information on the course website to see if the enrollment period has ended.\\n   - Contact the course administrator or support team to inquire about enrollment deadlines.\\n\\n2. **Late Enrollment Policies:**\\n   - Some courses may allow late enrollment, though you may need to catch up on missed material.\\n   - There might be a grace period during which you can still join the course.\\n\\n3. **Waitlist Options:**\\n   - If the course is fully booked, ask if there is a waitlist you can join in case spots open up.\\n\\n4. **Next Offering:**\\n   - Find out if and when the course will be offered next, and plan to enroll then if the current session isn’t an option.\\n\\n5. **Special Circumstances:**\\n   - If you have a compelling reason for your late enrollment, explain your situation to the course organizers. They might make an exception.\\n\\nContact the institution or platform offering the course for the most accurate and up-to-date information.\""
      ]
     },
     "execution_count": 16,
     "metadata": {},
     "output_type": "execute_result"
    }
   ],
   "source": [
    "response.choices[0].message.content"
   ]
  }
 ],
 "metadata": {
  "kernelspec": {
   "display_name": "Python 3 (ipykernel)",
   "language": "python",
   "name": "python3"
  },
  "language_info": {
   "codemirror_mode": {
    "name": "ipython",
    "version": 3
   },
   "file_extension": ".py",
   "mimetype": "text/x-python",
   "name": "python",
   "nbconvert_exporter": "python",
   "pygments_lexer": "ipython3",
   "version": "3.10.13"
  }
 },
 "nbformat": 4,
 "nbformat_minor": 5
}
