{
 "cells": [
  {
   "cell_type": "code",
   "execution_count": 1,
   "id": "22aa33a0-0bdd-4762-ba6a-635fbdf49116",
   "metadata": {},
   "outputs": [],
   "source": [
    "import openai\n",
    "from openai import OpenAI\n",
    "import os "
   ]
  },
  {
   "cell_type": "code",
   "execution_count": 5,
   "id": "d8069b84-2aaf-49d6-aa6d-207538b920f2",
   "metadata": {},
   "outputs": [],
   "source": [
    "api_key = os.environ[\"OPEN_API_KEY\"]\n",
    "client = OpenAI(api_key=api_key)"
   ]
  },
  {
   "cell_type": "code",
   "execution_count": 6,
   "id": "ccebeca3",
   "metadata": {},
   "outputs": [],
   "source": [
    "response = client.chat.completions.create(\n",
    "    model=\"gpt-4o\",\n",
    "    messages=[{\"role\": \"user\", \"content\": \"is it too late to join the course?\"}]\n",
    ")"
   ]
  },
  {
   "cell_type": "code",
   "execution_count": 7,
   "id": "83013d1d",
   "metadata": {},
   "outputs": [
    {
     "data": {
      "text/plain": [
       "\"It depends on the specific course and its policies regarding late enrollment. Some courses allow late entry within a certain period after the official start date, while others may have strict deadlines. Here are a few steps you can take to find out:\\n\\n1. **Check the Course Website**: Look for any information about enrollment deadlines and late registration policies.\\n\\n2. **Contact the Instructor or Department**: Reach out to the course instructor or the academic department offering the course. They can provide specific details about whether late enrollment is possible and what steps you might need to take.\\n\\n3. **Speak with an Academic Advisor**: If you are a student at a college or university, an academic advisor can often assist you in understanding your options and any potential implications of joining a course late.\\n\\n4. **Review Institution Policies**: Some institutions have general policies that apply to all courses regarding add/drop periods and late registration. These can often be found on the institution's registrar or academic services website.\\n\\nIf you're considering joining an online course, many platforms also offer self-paced options, which can provide more flexibility for enrollment.\""
      ]
     },
     "execution_count": 7,
     "metadata": {},
     "output_type": "execute_result"
    }
   ],
   "source": [
    "response.choices[0].message.content"
   ]
  }
 ],
 "metadata": {
  "kernelspec": {
   "display_name": "Python 3 (ipykernel)",
   "language": "python",
   "name": "python3"
  },
  "language_info": {
   "codemirror_mode": {
    "name": "ipython",
    "version": 3
   },
   "file_extension": ".py",
   "mimetype": "text/x-python",
   "name": "python",
   "nbconvert_exporter": "python",
   "pygments_lexer": "ipython3",
   "version": "3.10.13"
  }
 },
 "nbformat": 4,
 "nbformat_minor": 5
}
