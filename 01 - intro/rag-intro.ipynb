{
 "cells": [
  {
   "cell_type": "code",
   "execution_count": 2,
   "id": "837fa8e6-635f-4955-93d6-1dcf50d72501",
   "metadata": {},
   "outputs": [
    {
     "name": "stdout",
     "output_type": "stream",
     "text": [
      "--2024-08-18 12:58:48--  https://raw.githubusercontent.com/alexeygrigorev/minsearch/main/minsearch.py\n",
      "Resolving raw.githubusercontent.com (raw.githubusercontent.com)... 185.199.110.133, 185.199.111.133, 185.199.108.133, ...\n",
      "Connecting to raw.githubusercontent.com (raw.githubusercontent.com)|185.199.110.133|:443... connected.\n",
      "HTTP request sent, awaiting response... 200 OK\n",
      "Length: 3832 (3.7K) [text/plain]\n",
      "Saving to: ‘minsearch.py.1’\n",
      "\n",
      "minsearch.py.1      100%[===================>]   3.74K  --.-KB/s    in 0s      \n",
      "\n",
      "2024-08-18 12:58:48 (31.5 MB/s) - ‘minsearch.py.1’ saved [3832/3832]\n",
      "\n"
     ]
    }
   ],
   "source": [
    "!wget https://raw.githubusercontent.com/alexeygrigorev/minsearch/main/minsearch.py"
   ]
  },
  {
   "cell_type": "code",
   "execution_count": 3,
   "id": "18101552-0e35-470f-a69d-7bbe6898da9d",
   "metadata": {},
   "outputs": [],
   "source": [
    "import minsearch\n",
    "import json"
   ]
  },
  {
   "cell_type": "code",
   "execution_count": 4,
   "id": "d89f186a-1b8d-405d-b48e-a1a8efa43ab1",
   "metadata": {},
   "outputs": [],
   "source": [
    "with open('documents.json', 'rt') as f_in:     # rt = read text, f_in = file input\n",
    "    docs_raw = json.load(f_in)"
   ]
  },
  {
   "cell_type": "code",
   "execution_count": 5,
   "id": "95afc0df-f2a7-4218-a73d-efe48b905840",
   "metadata": {},
   "outputs": [],
   "source": [
    "documants = []\n",
    "\n",
    "for course_dict in docs_raw:\n",
    "    for doc in course_dict['documents']:\n",
    "        doc['course'] = course_dict['course']\n",
    "        documants.append(doc)"
   ]
  },
  {
   "cell_type": "code",
   "execution_count": 5,
   "id": "452e4a8e-e528-4d91-9490-d88e84425803",
   "metadata": {},
   "outputs": [
    {
     "data": {
      "text/plain": [
       "{'text': \"The purpose of this document is to capture frequently asked technical questions\\nThe next cohort starts in Jan 2025. More info at DTC Article.\\nRegister before the course starts using this link.\\nJoin the course Telegram channel with announcements.\\nDon’t forget to register in DataTalks.Club's Slack and join the channel.\",\n",
       " 'section': 'General course-related questions',\n",
       " 'question': 'Course - When will the course start？',\n",
       " 'course': 'data-engineering-zoomcamp'}"
      ]
     },
     "execution_count": 5,
     "metadata": {},
     "output_type": "execute_result"
    }
   ],
   "source": [
    "documants[0]"
   ]
  },
  {
   "cell_type": "code",
   "execution_count": 6,
   "id": "1746cf4a",
   "metadata": {},
   "outputs": [],
   "source": [
    "index = minsearch.Index(\n",
    "    text_fields=[\"question\", \"text\", \"section\"],\n",
    "    keyword_fields=[\"course\"]\n",
    ")"
   ]
  },
  {
   "cell_type": "code",
   "execution_count": 7,
   "id": "6530f3ec",
   "metadata": {},
   "outputs": [
    {
     "data": {
      "text/plain": [
       "<minsearch.Index at 0x7a60a4263f10>"
      ]
     },
     "execution_count": 7,
     "metadata": {},
     "output_type": "execute_result"
    }
   ],
   "source": [
    "index.fit(documants)"
   ]
  },
  {
   "cell_type": "code",
   "execution_count": 15,
   "id": "ed9862b7",
   "metadata": {},
   "outputs": [],
   "source": [
    "import os\n",
    "from openai import OpenAI\n",
    "\n",
    "client = OpenAI(api_key=os.environ[\"OPENAI_API_KEY\"])\n"
   ]
  },
  {
   "cell_type": "code",
   "execution_count": 53,
   "id": "f03472df",
   "metadata": {},
   "outputs": [],
   "source": [
    "def search(query):\n",
    "    boost =  {\"question\": 3.0,  \"section\": 0.5}\n",
    "\n",
    "    results = index.search(\n",
    "        query= query,\n",
    "        boost_dict= boost,\n",
    "        filter_dict={'course': 'data-engineering-zoomcamp'},\n",
    "        num_results= 5\n",
    "        )\n",
    "    return results"
   ]
  },
  {
   "cell_type": "code",
   "execution_count": 54,
   "id": "07d09fcb",
   "metadata": {},
   "outputs": [],
   "source": [
    "def build_prompt(query, search_results):\n",
    "    prompt_template = \"\"\"\n",
    "    You're a course teaching assistant. Answer the QUESTION based on the CONTEXT from the FAQ database.\n",
    "    Use only the facts from the CONTEXT when answering the QUESTION.\n",
    "\n",
    "    QUESTION: {question}\n",
    "\n",
    "    CONTEXT: \n",
    "    {context}\n",
    "    \"\"\".strip()\n",
    "\n",
    "    context = \"\"\n",
    "    \n",
    "    for doc in search_results:\n",
    "        context = context + f\"section: {doc['section']}\\nquestion: {doc['question']}\\nanswer: {doc['text']}\\n\\n\"\n",
    "    \n",
    "    prompt = prompt_template.format(question=query, context=context).strip()\n",
    "    return prompt"
   ]
  },
  {
   "cell_type": "code",
   "execution_count": 55,
   "id": "2a27ca3a",
   "metadata": {},
   "outputs": [],
   "source": [
    "def llm(promot):\n",
    "    response = client.chat.completions.create(\n",
    "    model='gpt-4o',\n",
    "    messages=[{\"role\": \"user\", \"content\": promot}]\n",
    "    )\n",
    "\n",
    "    return response.choices[0].message.content"
   ]
  },
  {
   "cell_type": "code",
   "execution_count": 58,
   "id": "8a1a016c",
   "metadata": {},
   "outputs": [],
   "source": [
    "def rag(query):\n",
    "    search_results = search(query)\n",
    "    promot = build_prompt(query, search_results)\n",
    "    answer = llm(promot)\n",
    "    return answer"
   ]
  },
  {
   "cell_type": "code",
   "execution_count": 60,
   "id": "30216f73",
   "metadata": {},
   "outputs": [
    {
     "name": "stdout",
     "output_type": "stream",
     "text": [
      "To run Kafka, the specific instructions depend on your system setup and the programming language you are using. Here are some relevant steps based on the CONTEXT provided:\n",
      "\n",
      "1. **Using Java:**\n",
      "   - In the project directory, you can run a Java Kafka producer or consumer with the following command:\n",
      "     ```shell\n",
      "     java -cp build/libs/<jar_name>-1.0-SNAPSHOT.jar:out src/main/java/org/example/JsonProducer.java\n",
      "     ```\n",
      "     Replace `<jar_name>` with the actual name of the jar file.\n",
      "\n",
      "2. **Using Python:**\n",
      "   - If you're running a Python Kafka producer or consumer, you should first create and activate a virtual environment, then install the necessary packages:\n",
      "     1. Create a virtual environment (you only need to do this once):\n",
      "        ```shell\n",
      "        python -m venv env\n",
      "        ```\n",
      "     2. Activate the virtual environment:\n",
      "        - On macOS or Linux:\n",
      "          ```shell\n",
      "          source env/bin/activate\n",
      "          ```\n",
      "        - On Windows:\n",
      "          ```shell\n",
      "          env\\Scripts\\activate\n",
      "          ```\n",
      "     3. Install the required packages from `requirements.txt`:\n",
      "        ```shell\n",
      "        pip install -r ../requirements.txt\n",
      "        ```\n",
      "     Remember to activate the virtual environment every time you need to run the Python Kafka files:\n",
      "     ```shell\n",
      "     source env/bin/activate  # or env\\Scripts\\activate on Windows\n",
      "     ```\n",
      "     To deactivate the virtual environment when you're done:\n",
      "     ```shell\n",
      "     deactivate\n",
      "     ```\n",
      "\n",
      "3. **Permissions Issue:**\n",
      "   - If you encounter a `Permission denied` error when running `build.sh`:\n",
      "     ```shell\n",
      "     chmod +x build.sh\n",
      "     ```\n",
      "     Run this command in the terminal in the same directory where `build.sh` is located.\n",
      "\n",
      "4. **ModuleNotFoundError:**\n",
      "   - If you face an error like `ModuleNotFoundError: No module named 'kafka.vendor.six.moves'`, consider using a different Kafka Python package:\n",
      "     ```shell\n",
      "     pip install kafka-python-ng\n",
      "     ```\n",
      "     This is recommended due to issues with releases in the original Kafka Python package.\n"
     ]
    }
   ],
   "source": [
    "query = 'how do i run kafka?'\n",
    "print(rag(query))"
   ]
  }
 ],
 "metadata": {
  "kernelspec": {
   "display_name": "Python 3 (ipykernel)",
   "language": "python",
   "name": "python3"
  },
  "language_info": {
   "codemirror_mode": {
    "name": "ipython",
    "version": 3
   },
   "file_extension": ".py",
   "mimetype": "text/x-python",
   "name": "python",
   "nbconvert_exporter": "python",
   "pygments_lexer": "ipython3",
   "version": "3.10.13"
  }
 },
 "nbformat": 4,
 "nbformat_minor": 5
}
